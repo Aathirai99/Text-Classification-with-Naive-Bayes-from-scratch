{
  "nbformat": 4,
  "nbformat_minor": 0,
  "metadata": {
    "colab": {
      "provenance": []
    },
    "kernelspec": {
      "name": "python3",
      "display_name": "Python 3"
    },
    "language_info": {
      "name": "python"
    }
  },
  "cells": [
    {
      "cell_type": "markdown",
      "source": [
        "## **Naïve Bayes Classification**  \n",
        "The Naïve Bayes classifier is a probabilistic model based on **Bayes' Theorem**. The key assumption in Naïve Bayes is that **words in a document are conditionally independent given the class**.\n",
        "\n",
        "---\n",
        "\n",
        "## **Bayes' Theorem**  \n",
        "\n",
        "Bayes' Theorem describes the probability of a class \\( Y \\) given a document \\( X \\):  \n",
        "\n",
        "\n",
        "$P(Y \\mid X) = \\frac{P(X \\mid Y) P(Y)}{P(X)}$\n",
        "\n",
        "<br>\n",
        "\n",
        "### **Naïve Bayes for Text Classification**  \n",
        "\n",
        "Since \\( P(X) \\) is constant for all classes, we only need to compute:  \n",
        "\n",
        "\n",
        "$P(Y \\mid X) \\propto P(X \\mid Y) P(Y)$\n",
        "\n",
        "For **text classification**, assuming a document consists of words \\( w_1, w_2, ..., w_n \\), the likelihood is modeled as:  \n",
        "\n",
        "$\n",
        "P(Y \\mid w_1, w_2, ..., w_n) \\propto P(Y) \\prod_{i=1}^{n} P(w_i \\mid Y)\n",
        "$\n",
        "\n",
        "where:  \n",
        "\n",
        "- **\\$( P(Y \\mid X)$ \\) → Posterior Probability**  \n",
        "  - The probability of class \\( Y \\) given the words in the document.  \n",
        "\n",
        "- **\\( $P(w_i \\mid Y$) \\) → Likelihood**  \n",
        "  - The probability of word \\( w_i \\) occurring given class \\( Y \\).  \n",
        "\n",
        "- **\\( $P(Y)$ \\) → Prior Probability**  \n",
        "  - How common class \\( Y \\) is.  \n",
        "\n",
        "- **\\( $P(X) $\\) → Evidence**  \n",
        "  - The total probability of document \\( X \\), which is ignored for classification.  \n",
        "\n",
        "In **Naïve Bayes for text classification**, we assume that **words occur independently** within a document, leading to the **Bag of Words model**.\n",
        "\n"
      ],
      "metadata": {
        "id": "jqmFv-j15OD-"
      }
    },
    {
      "cell_type": "markdown",
      "source": [
        "## **Naïve Bayes Classification Process**\n",
        "\n",
        "### **1. Loading Data**\n",
        "- Load the **IMDB dataset** containing movie reviews and their sentiment labels (positive/negative).\n",
        "\n",
        "### **2. Preprocessing**\n",
        "- Remove **HTML tags, URLs, and non-alphanumeric characters**.\n",
        "- Convert text to **lowercase** and remove extra spaces.\n",
        "- Remove **stopwords** (common words like \"the\", \"is\", \"and\", etc.).\n",
        "\n",
        "### **3. Label Encoding**\n",
        "- Convert categorical labels:\n",
        "  - `positive → 1`\n",
        "  - `negative → 0`\n",
        "- This allows numerical processing of sentiment labels.\n",
        "\n",
        "### **4. Calculating Prior Probabilities \\( P(Y) \\)**\n",
        "- Compute the probability of a review being **positive or negative** in the dataset:\n",
        "\n",
        "$P(Y) = \\frac{\\text{Count of class Y reviews}}{\\text{Total reviews}}$\n",
        "\n",
        "### **5. Building Vocabulary & Word Counts**\n",
        "- Create a vocabulary of **unique words** from the dataset.\n",
        "- Separate **positive** and **negative** reviews.\n",
        "- Count how often each word appears in **positive and negative** reviews.\n",
        "\n",
        "### **6. Naïve Bayes Classification**\n",
        "\n",
        "\n",
        "\n",
        "- **Uses Laplace smoothing** to avoid zero probabilities.  \n",
        "- Computes likelihood \\( P(w \\mid Y) \\) for each word using:  \n",
        "\n",
        "$\n",
        "P(w \\mid Y) = \\frac{\\text{Word count in class } Y + 1}{\\text{Total words in class } Y + |V|}\n",
        "$\n",
        "\n",
        "- **Uses log probabilities** to prevent underflow.  \n",
        "- Predicts the class using:  \n",
        "\n",
        "$\n",
        "Y_{\\text{pred}} = \\arg\\max_Y P(Y) + \\sum_{i=1}^{n} \\log P(w_i \\mid Y)\n",
        "$\n",
        "\n",
        "\n",
        "\n",
        "### **7. Model Evaluation**  \n",
        "\n",
        "- **Splits data** into training and test sets.  \n",
        "- **Runs Naïve Bayes** on test data.  \n",
        "- **Computes Confusion Matrix and F1 Score** to evaluate performance.  \n",
        "\n",
        "<br>\n",
        "\n",
        "----\n",
        "\n",
        "##### Comments:\n",
        "- To ensure that no word probability is ever zero, we use **Laplace Smoothing**:  Laplace smoothing prevents zero probabilities and ensures numerical stability when computing likelihoods.\n",
        "- Prevents probabilities from being exactly zero → Avoids total loss of information.\n",
        "- Does NOT fix the small number multiplication issue → Probabilities are still very small, so underflow can still happen. Use log probabilities to prevent underflow.\n"
      ],
      "metadata": {
        "id": "ESHZLRk-y2Fk"
      }
    },
    {
      "cell_type": "markdown",
      "source": [
        "# Import libraries"
      ],
      "metadata": {
        "id": "4s3tvrAbu8hv"
      }
    },
    {
      "cell_type": "code",
      "execution_count": null,
      "metadata": {
        "id": "hDhCgY2ibANI"
      },
      "outputs": [],
      "source": [
        "import pandas as pd\n",
        "import numpy as np"
      ]
    },
    {
      "cell_type": "code",
      "source": [
        "import kagglehub\n",
        "import os\n",
        "import zipfile"
      ],
      "metadata": {
        "id": "u-RC8uDRbhCx"
      },
      "execution_count": null,
      "outputs": []
    },
    {
      "cell_type": "markdown",
      "source": [],
      "metadata": {
        "id": "2l85BHhS7H6A"
      }
    },
    {
      "cell_type": "markdown",
      "source": [
        "# Loading data"
      ],
      "metadata": {
        "id": "7-zsx4LSu90_"
      }
    },
    {
      "cell_type": "code",
      "source": [
        "df = pd.read_csv(\"IMDB Dataset.csv\")"
      ],
      "metadata": {
        "id": "3D6-lFi4URn9"
      },
      "execution_count": null,
      "outputs": []
    },
    {
      "cell_type": "code",
      "source": [
        "df.head()"
      ],
      "metadata": {
        "colab": {
          "base_uri": "https://localhost:8080/",
          "height": 223
        },
        "id": "p7rl8hwXUVwm",
        "outputId": "a4b4f2c3-31da-44b0-f1c3-d1db0767cb1e"
      },
      "execution_count": null,
      "outputs": [
        {
          "output_type": "execute_result",
          "data": {
            "text/plain": [
              "                                              review sentiment\n",
              "0  One of the other reviewers has mentioned that ...  positive\n",
              "1  A wonderful little production. <br /><br />The...  positive\n",
              "2  I thought this was a wonderful way to spend ti...  positive\n",
              "3  Basically there's a family where a little boy ...  negative\n",
              "4  Petter Mattei's \"Love in the Time of Money\" is...  positive"
            ],
            "text/html": [
              "\n",
              "  <div id=\"df-c63acf83-9f56-4eee-8f61-9536bb1b4bc3\" class=\"colab-df-container\">\n",
              "    <div>\n",
              "<style scoped>\n",
              "    .dataframe tbody tr th:only-of-type {\n",
              "        vertical-align: middle;\n",
              "    }\n",
              "\n",
              "    .dataframe tbody tr th {\n",
              "        vertical-align: top;\n",
              "    }\n",
              "\n",
              "    .dataframe thead th {\n",
              "        text-align: right;\n",
              "    }\n",
              "</style>\n",
              "<table border=\"1\" class=\"dataframe\">\n",
              "  <thead>\n",
              "    <tr style=\"text-align: right;\">\n",
              "      <th></th>\n",
              "      <th>review</th>\n",
              "      <th>sentiment</th>\n",
              "    </tr>\n",
              "  </thead>\n",
              "  <tbody>\n",
              "    <tr>\n",
              "      <th>0</th>\n",
              "      <td>One of the other reviewers has mentioned that ...</td>\n",
              "      <td>positive</td>\n",
              "    </tr>\n",
              "    <tr>\n",
              "      <th>1</th>\n",
              "      <td>A wonderful little production. &lt;br /&gt;&lt;br /&gt;The...</td>\n",
              "      <td>positive</td>\n",
              "    </tr>\n",
              "    <tr>\n",
              "      <th>2</th>\n",
              "      <td>I thought this was a wonderful way to spend ti...</td>\n",
              "      <td>positive</td>\n",
              "    </tr>\n",
              "    <tr>\n",
              "      <th>3</th>\n",
              "      <td>Basically there's a family where a little boy ...</td>\n",
              "      <td>negative</td>\n",
              "    </tr>\n",
              "    <tr>\n",
              "      <th>4</th>\n",
              "      <td>Petter Mattei's \"Love in the Time of Money\" is...</td>\n",
              "      <td>positive</td>\n",
              "    </tr>\n",
              "  </tbody>\n",
              "</table>\n",
              "</div>\n",
              "    <div class=\"colab-df-buttons\">\n",
              "\n",
              "  <div class=\"colab-df-container\">\n",
              "    <button class=\"colab-df-convert\" onclick=\"convertToInteractive('df-c63acf83-9f56-4eee-8f61-9536bb1b4bc3')\"\n",
              "            title=\"Convert this dataframe to an interactive table.\"\n",
              "            style=\"display:none;\">\n",
              "\n",
              "  <svg xmlns=\"http://www.w3.org/2000/svg\" height=\"24px\" viewBox=\"0 -960 960 960\">\n",
              "    <path d=\"M120-120v-720h720v720H120Zm60-500h600v-160H180v160Zm220 220h160v-160H400v160Zm0 220h160v-160H400v160ZM180-400h160v-160H180v160Zm440 0h160v-160H620v160ZM180-180h160v-160H180v160Zm440 0h160v-160H620v160Z\"/>\n",
              "  </svg>\n",
              "    </button>\n",
              "\n",
              "  <style>\n",
              "    .colab-df-container {\n",
              "      display:flex;\n",
              "      gap: 12px;\n",
              "    }\n",
              "\n",
              "    .colab-df-convert {\n",
              "      background-color: #E8F0FE;\n",
              "      border: none;\n",
              "      border-radius: 50%;\n",
              "      cursor: pointer;\n",
              "      display: none;\n",
              "      fill: #1967D2;\n",
              "      height: 32px;\n",
              "      padding: 0 0 0 0;\n",
              "      width: 32px;\n",
              "    }\n",
              "\n",
              "    .colab-df-convert:hover {\n",
              "      background-color: #E2EBFA;\n",
              "      box-shadow: 0px 1px 2px rgba(60, 64, 67, 0.3), 0px 1px 3px 1px rgba(60, 64, 67, 0.15);\n",
              "      fill: #174EA6;\n",
              "    }\n",
              "\n",
              "    .colab-df-buttons div {\n",
              "      margin-bottom: 4px;\n",
              "    }\n",
              "\n",
              "    [theme=dark] .colab-df-convert {\n",
              "      background-color: #3B4455;\n",
              "      fill: #D2E3FC;\n",
              "    }\n",
              "\n",
              "    [theme=dark] .colab-df-convert:hover {\n",
              "      background-color: #434B5C;\n",
              "      box-shadow: 0px 1px 3px 1px rgba(0, 0, 0, 0.15);\n",
              "      filter: drop-shadow(0px 1px 2px rgba(0, 0, 0, 0.3));\n",
              "      fill: #FFFFFF;\n",
              "    }\n",
              "  </style>\n",
              "\n",
              "    <script>\n",
              "      const buttonEl =\n",
              "        document.querySelector('#df-c63acf83-9f56-4eee-8f61-9536bb1b4bc3 button.colab-df-convert');\n",
              "      buttonEl.style.display =\n",
              "        google.colab.kernel.accessAllowed ? 'block' : 'none';\n",
              "\n",
              "      async function convertToInteractive(key) {\n",
              "        const element = document.querySelector('#df-c63acf83-9f56-4eee-8f61-9536bb1b4bc3');\n",
              "        const dataTable =\n",
              "          await google.colab.kernel.invokeFunction('convertToInteractive',\n",
              "                                                    [key], {});\n",
              "        if (!dataTable) return;\n",
              "\n",
              "        const docLinkHtml = 'Like what you see? Visit the ' +\n",
              "          '<a target=\"_blank\" href=https://colab.research.google.com/notebooks/data_table.ipynb>data table notebook</a>'\n",
              "          + ' to learn more about interactive tables.';\n",
              "        element.innerHTML = '';\n",
              "        dataTable['output_type'] = 'display_data';\n",
              "        await google.colab.output.renderOutput(dataTable, element);\n",
              "        const docLink = document.createElement('div');\n",
              "        docLink.innerHTML = docLinkHtml;\n",
              "        element.appendChild(docLink);\n",
              "      }\n",
              "    </script>\n",
              "  </div>\n",
              "\n",
              "\n",
              "<div id=\"df-3d864f6c-ebc2-4f4e-bcbf-32e924e664d0\">\n",
              "  <button class=\"colab-df-quickchart\" onclick=\"quickchart('df-3d864f6c-ebc2-4f4e-bcbf-32e924e664d0')\"\n",
              "            title=\"Suggest charts\"\n",
              "            style=\"display:none;\">\n",
              "\n",
              "<svg xmlns=\"http://www.w3.org/2000/svg\" height=\"24px\"viewBox=\"0 0 24 24\"\n",
              "     width=\"24px\">\n",
              "    <g>\n",
              "        <path d=\"M19 3H5c-1.1 0-2 .9-2 2v14c0 1.1.9 2 2 2h14c1.1 0 2-.9 2-2V5c0-1.1-.9-2-2-2zM9 17H7v-7h2v7zm4 0h-2V7h2v10zm4 0h-2v-4h2v4z\"/>\n",
              "    </g>\n",
              "</svg>\n",
              "  </button>\n",
              "\n",
              "<style>\n",
              "  .colab-df-quickchart {\n",
              "      --bg-color: #E8F0FE;\n",
              "      --fill-color: #1967D2;\n",
              "      --hover-bg-color: #E2EBFA;\n",
              "      --hover-fill-color: #174EA6;\n",
              "      --disabled-fill-color: #AAA;\n",
              "      --disabled-bg-color: #DDD;\n",
              "  }\n",
              "\n",
              "  [theme=dark] .colab-df-quickchart {\n",
              "      --bg-color: #3B4455;\n",
              "      --fill-color: #D2E3FC;\n",
              "      --hover-bg-color: #434B5C;\n",
              "      --hover-fill-color: #FFFFFF;\n",
              "      --disabled-bg-color: #3B4455;\n",
              "      --disabled-fill-color: #666;\n",
              "  }\n",
              "\n",
              "  .colab-df-quickchart {\n",
              "    background-color: var(--bg-color);\n",
              "    border: none;\n",
              "    border-radius: 50%;\n",
              "    cursor: pointer;\n",
              "    display: none;\n",
              "    fill: var(--fill-color);\n",
              "    height: 32px;\n",
              "    padding: 0;\n",
              "    width: 32px;\n",
              "  }\n",
              "\n",
              "  .colab-df-quickchart:hover {\n",
              "    background-color: var(--hover-bg-color);\n",
              "    box-shadow: 0 1px 2px rgba(60, 64, 67, 0.3), 0 1px 3px 1px rgba(60, 64, 67, 0.15);\n",
              "    fill: var(--button-hover-fill-color);\n",
              "  }\n",
              "\n",
              "  .colab-df-quickchart-complete:disabled,\n",
              "  .colab-df-quickchart-complete:disabled:hover {\n",
              "    background-color: var(--disabled-bg-color);\n",
              "    fill: var(--disabled-fill-color);\n",
              "    box-shadow: none;\n",
              "  }\n",
              "\n",
              "  .colab-df-spinner {\n",
              "    border: 2px solid var(--fill-color);\n",
              "    border-color: transparent;\n",
              "    border-bottom-color: var(--fill-color);\n",
              "    animation:\n",
              "      spin 1s steps(1) infinite;\n",
              "  }\n",
              "\n",
              "  @keyframes spin {\n",
              "    0% {\n",
              "      border-color: transparent;\n",
              "      border-bottom-color: var(--fill-color);\n",
              "      border-left-color: var(--fill-color);\n",
              "    }\n",
              "    20% {\n",
              "      border-color: transparent;\n",
              "      border-left-color: var(--fill-color);\n",
              "      border-top-color: var(--fill-color);\n",
              "    }\n",
              "    30% {\n",
              "      border-color: transparent;\n",
              "      border-left-color: var(--fill-color);\n",
              "      border-top-color: var(--fill-color);\n",
              "      border-right-color: var(--fill-color);\n",
              "    }\n",
              "    40% {\n",
              "      border-color: transparent;\n",
              "      border-right-color: var(--fill-color);\n",
              "      border-top-color: var(--fill-color);\n",
              "    }\n",
              "    60% {\n",
              "      border-color: transparent;\n",
              "      border-right-color: var(--fill-color);\n",
              "    }\n",
              "    80% {\n",
              "      border-color: transparent;\n",
              "      border-right-color: var(--fill-color);\n",
              "      border-bottom-color: var(--fill-color);\n",
              "    }\n",
              "    90% {\n",
              "      border-color: transparent;\n",
              "      border-bottom-color: var(--fill-color);\n",
              "    }\n",
              "  }\n",
              "</style>\n",
              "\n",
              "  <script>\n",
              "    async function quickchart(key) {\n",
              "      const quickchartButtonEl =\n",
              "        document.querySelector('#' + key + ' button');\n",
              "      quickchartButtonEl.disabled = true;  // To prevent multiple clicks.\n",
              "      quickchartButtonEl.classList.add('colab-df-spinner');\n",
              "      try {\n",
              "        const charts = await google.colab.kernel.invokeFunction(\n",
              "            'suggestCharts', [key], {});\n",
              "      } catch (error) {\n",
              "        console.error('Error during call to suggestCharts:', error);\n",
              "      }\n",
              "      quickchartButtonEl.classList.remove('colab-df-spinner');\n",
              "      quickchartButtonEl.classList.add('colab-df-quickchart-complete');\n",
              "    }\n",
              "    (() => {\n",
              "      let quickchartButtonEl =\n",
              "        document.querySelector('#df-3d864f6c-ebc2-4f4e-bcbf-32e924e664d0 button');\n",
              "      quickchartButtonEl.style.display =\n",
              "        google.colab.kernel.accessAllowed ? 'block' : 'none';\n",
              "    })();\n",
              "  </script>\n",
              "</div>\n",
              "\n",
              "    </div>\n",
              "  </div>\n"
            ],
            "application/vnd.google.colaboratory.intrinsic+json": {
              "type": "dataframe",
              "variable_name": "df",
              "summary": "{\n  \"name\": \"df\",\n  \"rows\": 50000,\n  \"fields\": [\n    {\n      \"column\": \"review\",\n      \"properties\": {\n        \"dtype\": \"string\",\n        \"num_unique_values\": 49582,\n        \"samples\": [\n          \"\\\"Soul Plane\\\" is a horrible attempt at comedy that only should appeal people with thick skulls, bloodshot eyes and furry pawns. <br /><br />The plot is not only incoherent but also non-existent, acting is mostly sub sub-par with a gang of highly moronic and dreadful characters thrown in for bad measure, jokes are often spotted miles ahead and almost never even a bit amusing. This movie lacks any structure and is full of racial stereotypes that must have seemed old even in the fifties, the only thing it really has going for it is some pretty ladies, but really, if you want that you can rent something from the \\\"Adult\\\" section. OK?<br /><br />I can hardly see anything here to recommend since you'll probably have a lot a better and productive time chasing rats with a sledgehammer or inventing waterproof teabags or whatever.<br /><br />2/10\",\n          \"Guest from the Future tells a fascinating story of time travel, friendship, battle of good and evil -- all with a small budget, child actors, and few special effects. Something for Spielberg and Lucas to learn from. ;) A sixth-grader Kolya \\\"Nick\\\" Gerasimov finds a time machine in the basement of a decrepit building and travels 100 years into the future. He discovers a near-perfect, utopian society where robots play guitars and write poetry, everyone is kind to each other and people enjoy everything technology has to offer. Alice is the daughter of a prominent scientist who invented a device called Mielophone that allows to read minds of humans and animals. The device can be put to both good and bad use, depending on whose hands it falls into. When two evil space pirates from Saturn who want to rule the universe attempt to steal Mielophone, it falls into the hands of 20th century school boy Nick. With the pirates hot on his tracks, he travels back to his time, followed by the pirates, and Alice. Chaos, confusion and funny situations follow as the luckless pirates try to blend in with the earthlings. Alice enrolls in the same school Nick goes to and demonstrates superhuman abilities in PE class. The catch is, Alice doesn't know what Nick looks like, while the pirates do. Also, the pirates are able to change their appearance and turn literally into anyone. (Hmm, I wonder if this is where James Cameron got the idea for Terminator...) Who gets to Nick -- and Mielophone -- first? Excellent plot, non-stop adventures, and great soundtrack. I wish Hollywood made kid movies like this one...\",\n          \"\\\"National Treasure\\\" (2004) is a thoroughly misguided hodge-podge of plot entanglements that borrow from nearly every cloak and dagger government conspiracy clich\\u00e9 that has ever been written. The film stars Nicholas Cage as Benjamin Franklin Gates (how precious is that, I ask you?); a seemingly normal fellow who, for no other reason than being of a lineage of like-minded misguided fortune hunters, decides to steal a 'national treasure' that has been hidden by the United States founding fathers. After a bit of subtext and background that plays laughably (unintentionally) like Indiana Jones meets The Patriot, the film degenerates into one misguided whimsy after another \\u0096 attempting to create a 'Stanley Goodspeed' regurgitation of Nicholas Cage and launch the whole convoluted mess forward with a series of high octane, but disconnected misadventures.<br /><br />The relevancy and logic to having George Washington and his motley crew of patriots burying a king's ransom someplace on native soil, and then, going through the meticulous plan of leaving clues scattered throughout U.S. currency art work, is something that director Jon Turteltaub never quite gets around to explaining. Couldn't Washington found better usage for such wealth during the start up of the country? Hence, we are left with a mystery built on top of an enigma that is already on shaky ground by the time Ben appoints himself the new custodian of this untold wealth. Ben's intentions are noble \\u0096 if confusing. He's set on protecting the treasure. For who and when?\\u0085your guess is as good as mine.<br /><br />But there are a few problems with Ben's crusade. First up, his friend, Ian Holmes (Sean Bean) decides that he can't wait for Ben to make up his mind about stealing the Declaration of Independence from the National Archives (oh, yeah \\u0096 brilliant idea!). Presumably, the back of that famous document holds the secret answer to the ultimate fortune. So Ian tries to kill Ben. The assassination attempt is, of course, unsuccessful, if overly melodramatic. It also affords Ben the opportunity to pick up, and pick on, the very sultry curator of the archives, Abigail Chase (Diane Kruger). She thinks Ben is clearly a nut \\u0096 at least at the beginning. But true to action/romance form, Abby's resolve melts quicker than you can say, \\\"is that the Hope Diamond?\\\" The film moves into full X-File-ish mode, as the FBI, mistakenly believing that Ben is behind the theft, retaliate in various benign ways that lead to a multi-layering of action sequences reminiscent of Mission Impossible meets The Fugitive. Honestly, don't those guys ever get 'intelligence' information that is correct? In the final analysis, \\\"National Treasure\\\" isn't great film making, so much as it's a patchwork rehash of tired old bits from other movies, woven together from scraps, the likes of which would make IL' Betsy Ross blush.<br /><br />The Buena Vista DVD delivers a far more generous treatment than this film is deserving of. The anamorphic widescreen picture exhibits a very smooth and finely detailed image with very rich colors, natural flesh tones, solid blacks and clean whites. The stylized image is also free of blemishes and digital enhancements. The audio is 5.1 and delivers a nice sonic boom to your side and rear speakers with intensity and realism. Extras include a host of promotional junket material that is rather deep and over the top in its explanation of how and why this film was made. If only, as an audience, we had had more clarification as to why Ben and co. were chasing after an illusive treasure, this might have been one good flick. Extras conclude with the theatrical trailer, audio commentary and deleted scenes. Not for the faint-hearted \\u0096 just the thick-headed.\"\n        ],\n        \"semantic_type\": \"\",\n        \"description\": \"\"\n      }\n    },\n    {\n      \"column\": \"sentiment\",\n      \"properties\": {\n        \"dtype\": \"category\",\n        \"num_unique_values\": 2,\n        \"samples\": [\n          \"negative\",\n          \"positive\"\n        ],\n        \"semantic_type\": \"\",\n        \"description\": \"\"\n      }\n    }\n  ]\n}"
            }
          },
          "metadata": {},
          "execution_count": 350
        }
      ]
    },
    {
      "cell_type": "code",
      "source": [
        "len(df)"
      ],
      "metadata": {
        "colab": {
          "base_uri": "https://localhost:8080/"
        },
        "id": "1OVNEQ1nUXPn",
        "outputId": "09f8a65f-59df-4c92-8e7a-ec44d5619979"
      },
      "execution_count": null,
      "outputs": [
        {
          "output_type": "execute_result",
          "data": {
            "text/plain": [
              "50000"
            ]
          },
          "metadata": {},
          "execution_count": 351
        }
      ]
    },
    {
      "cell_type": "code",
      "source": [
        "len(df[df[\"sentiment\"]==\"positive\"])"
      ],
      "metadata": {
        "colab": {
          "base_uri": "https://localhost:8080/"
        },
        "id": "YPRUmyf8Ua-9",
        "outputId": "0b22fa49-11e1-4587-b6d6-0503f076b567"
      },
      "execution_count": null,
      "outputs": [
        {
          "output_type": "execute_result",
          "data": {
            "text/plain": [
              "25000"
            ]
          },
          "metadata": {},
          "execution_count": 352
        }
      ]
    },
    {
      "cell_type": "markdown",
      "source": [
        "# Preprocessing"
      ],
      "metadata": {
        "id": "eOAi12bzvEIo"
      }
    },
    {
      "cell_type": "markdown",
      "source": [
        "- remove all unwanted tags, urls, non-alphanumeric characters\n",
        "- convert to lowercase\n",
        "- remove extra space\n",
        "- remove stopwords\n",
        "\n",
        "\n",
        "\n"
      ],
      "metadata": {
        "id": "EtwjohMuvHEX"
      }
    },
    {
      "cell_type": "code",
      "source": [
        "import re\n",
        "import nltk\n",
        "from nltk.corpus import stopwords\n",
        "\n",
        "# Download stopwords if not already downloaded\n",
        "nltk.download('stopwords')\n",
        "\n",
        "stop_words = set(stopwords.words('english'))\n",
        "\n",
        "def remove_tags(string):\n",
        "    removelist = \"\"  # You can add characters to keep if needed\n",
        "\n",
        "    result = re.sub(r'<.*?>', '', string)  # Remove HTML tags\n",
        "    result = re.sub(r'\\.<br\\s*/><br\\s*/>', '', result)  # Remove <br /><br />\n",
        "    result = re.sub(r'https?://\\S+', '', result)  # Remove URLs\n",
        "    result = re.sub(r'[^a-zA-Z0-9' + removelist + ']', ' ', result)  # Remove non-alphanumeric characters\n",
        "    result = result.lower().strip()  # Convert to lowercase and remove extra spaces\n",
        "    return result\n",
        "\n",
        "# Apply text cleaning to the 'review' column\n",
        "df['review'] = df['review'].apply(remove_tags)\n",
        "\n",
        "# Remove stopwords\n",
        "df['review'] = df['review'].apply(lambda x: ' '.join([word for word in x.split() if word not in stop_words]))\n",
        "\n",
        "print(df.head())  # Check the cleaned data\n"
      ],
      "metadata": {
        "colab": {
          "base_uri": "https://localhost:8080/"
        },
        "id": "RHPrv0XOVh8F",
        "outputId": "7d9c642d-0df2-4096-ecd3-7b2f7cb897b8"
      },
      "execution_count": null,
      "outputs": [
        {
          "output_type": "stream",
          "name": "stderr",
          "text": [
            "[nltk_data] Downloading package stopwords to /root/nltk_data...\n",
            "[nltk_data]   Package stopwords is already up-to-date!\n"
          ]
        },
        {
          "output_type": "stream",
          "name": "stdout",
          "text": [
            "                                              review sentiment\n",
            "0  one reviewers mentioned watching 1 oz episode ...  positive\n",
            "1  wonderful little production filming technique ...  positive\n",
            "2  thought wonderful way spend time hot summer we...  positive\n",
            "3  basically family little boy jake thinks zombie...  negative\n",
            "4  petter mattei love time money visually stunnin...  positive\n"
          ]
        }
      ]
    },
    {
      "cell_type": "markdown",
      "source": [
        "Label encoding converts categorical values into numerical values, making them suitable for input in Naive Bayes."
      ],
      "metadata": {
        "id": "Ruw07hyRvgea"
      }
    },
    {
      "cell_type": "code",
      "source": [
        "df['sentiment'] = df['sentiment'].replace({'positive': 1, 'negative': 0})"
      ],
      "metadata": {
        "id": "RWl6dhLjW-lj",
        "colab": {
          "base_uri": "https://localhost:8080/"
        },
        "outputId": "36b8e63b-9986-45e4-d678-05b1555d85e1"
      },
      "execution_count": null,
      "outputs": [
        {
          "output_type": "stream",
          "name": "stderr",
          "text": [
            "<ipython-input-354-b67887bc710b>:1: FutureWarning: Downcasting behavior in `replace` is deprecated and will be removed in a future version. To retain the old behavior, explicitly call `result.infer_objects(copy=False)`. To opt-in to the future behavior, set `pd.set_option('future.no_silent_downcasting', True)`\n",
            "  df['sentiment'] = df['sentiment'].replace({'positive': 1, 'negative': 0})\n"
          ]
        }
      ]
    },
    {
      "cell_type": "code",
      "source": [
        "df.head()"
      ],
      "metadata": {
        "colab": {
          "base_uri": "https://localhost:8080/",
          "height": 223
        },
        "id": "pXwtPp6tbKnF",
        "outputId": "8e07ea0e-d650-432f-e6f6-f5eb7b775e73"
      },
      "execution_count": null,
      "outputs": [
        {
          "output_type": "execute_result",
          "data": {
            "text/plain": [
              "                                              review  sentiment\n",
              "0  one reviewers mentioned watching 1 oz episode ...          1\n",
              "1  wonderful little production filming technique ...          1\n",
              "2  thought wonderful way spend time hot summer we...          1\n",
              "3  basically family little boy jake thinks zombie...          0\n",
              "4  petter mattei love time money visually stunnin...          1"
            ],
            "text/html": [
              "\n",
              "  <div id=\"df-08e5a60f-3253-4dcc-a9d2-038f954f668a\" class=\"colab-df-container\">\n",
              "    <div>\n",
              "<style scoped>\n",
              "    .dataframe tbody tr th:only-of-type {\n",
              "        vertical-align: middle;\n",
              "    }\n",
              "\n",
              "    .dataframe tbody tr th {\n",
              "        vertical-align: top;\n",
              "    }\n",
              "\n",
              "    .dataframe thead th {\n",
              "        text-align: right;\n",
              "    }\n",
              "</style>\n",
              "<table border=\"1\" class=\"dataframe\">\n",
              "  <thead>\n",
              "    <tr style=\"text-align: right;\">\n",
              "      <th></th>\n",
              "      <th>review</th>\n",
              "      <th>sentiment</th>\n",
              "    </tr>\n",
              "  </thead>\n",
              "  <tbody>\n",
              "    <tr>\n",
              "      <th>0</th>\n",
              "      <td>one reviewers mentioned watching 1 oz episode ...</td>\n",
              "      <td>1</td>\n",
              "    </tr>\n",
              "    <tr>\n",
              "      <th>1</th>\n",
              "      <td>wonderful little production filming technique ...</td>\n",
              "      <td>1</td>\n",
              "    </tr>\n",
              "    <tr>\n",
              "      <th>2</th>\n",
              "      <td>thought wonderful way spend time hot summer we...</td>\n",
              "      <td>1</td>\n",
              "    </tr>\n",
              "    <tr>\n",
              "      <th>3</th>\n",
              "      <td>basically family little boy jake thinks zombie...</td>\n",
              "      <td>0</td>\n",
              "    </tr>\n",
              "    <tr>\n",
              "      <th>4</th>\n",
              "      <td>petter mattei love time money visually stunnin...</td>\n",
              "      <td>1</td>\n",
              "    </tr>\n",
              "  </tbody>\n",
              "</table>\n",
              "</div>\n",
              "    <div class=\"colab-df-buttons\">\n",
              "\n",
              "  <div class=\"colab-df-container\">\n",
              "    <button class=\"colab-df-convert\" onclick=\"convertToInteractive('df-08e5a60f-3253-4dcc-a9d2-038f954f668a')\"\n",
              "            title=\"Convert this dataframe to an interactive table.\"\n",
              "            style=\"display:none;\">\n",
              "\n",
              "  <svg xmlns=\"http://www.w3.org/2000/svg\" height=\"24px\" viewBox=\"0 -960 960 960\">\n",
              "    <path d=\"M120-120v-720h720v720H120Zm60-500h600v-160H180v160Zm220 220h160v-160H400v160Zm0 220h160v-160H400v160ZM180-400h160v-160H180v160Zm440 0h160v-160H620v160ZM180-180h160v-160H180v160Zm440 0h160v-160H620v160Z\"/>\n",
              "  </svg>\n",
              "    </button>\n",
              "\n",
              "  <style>\n",
              "    .colab-df-container {\n",
              "      display:flex;\n",
              "      gap: 12px;\n",
              "    }\n",
              "\n",
              "    .colab-df-convert {\n",
              "      background-color: #E8F0FE;\n",
              "      border: none;\n",
              "      border-radius: 50%;\n",
              "      cursor: pointer;\n",
              "      display: none;\n",
              "      fill: #1967D2;\n",
              "      height: 32px;\n",
              "      padding: 0 0 0 0;\n",
              "      width: 32px;\n",
              "    }\n",
              "\n",
              "    .colab-df-convert:hover {\n",
              "      background-color: #E2EBFA;\n",
              "      box-shadow: 0px 1px 2px rgba(60, 64, 67, 0.3), 0px 1px 3px 1px rgba(60, 64, 67, 0.15);\n",
              "      fill: #174EA6;\n",
              "    }\n",
              "\n",
              "    .colab-df-buttons div {\n",
              "      margin-bottom: 4px;\n",
              "    }\n",
              "\n",
              "    [theme=dark] .colab-df-convert {\n",
              "      background-color: #3B4455;\n",
              "      fill: #D2E3FC;\n",
              "    }\n",
              "\n",
              "    [theme=dark] .colab-df-convert:hover {\n",
              "      background-color: #434B5C;\n",
              "      box-shadow: 0px 1px 3px 1px rgba(0, 0, 0, 0.15);\n",
              "      filter: drop-shadow(0px 1px 2px rgba(0, 0, 0, 0.3));\n",
              "      fill: #FFFFFF;\n",
              "    }\n",
              "  </style>\n",
              "\n",
              "    <script>\n",
              "      const buttonEl =\n",
              "        document.querySelector('#df-08e5a60f-3253-4dcc-a9d2-038f954f668a button.colab-df-convert');\n",
              "      buttonEl.style.display =\n",
              "        google.colab.kernel.accessAllowed ? 'block' : 'none';\n",
              "\n",
              "      async function convertToInteractive(key) {\n",
              "        const element = document.querySelector('#df-08e5a60f-3253-4dcc-a9d2-038f954f668a');\n",
              "        const dataTable =\n",
              "          await google.colab.kernel.invokeFunction('convertToInteractive',\n",
              "                                                    [key], {});\n",
              "        if (!dataTable) return;\n",
              "\n",
              "        const docLinkHtml = 'Like what you see? Visit the ' +\n",
              "          '<a target=\"_blank\" href=https://colab.research.google.com/notebooks/data_table.ipynb>data table notebook</a>'\n",
              "          + ' to learn more about interactive tables.';\n",
              "        element.innerHTML = '';\n",
              "        dataTable['output_type'] = 'display_data';\n",
              "        await google.colab.output.renderOutput(dataTable, element);\n",
              "        const docLink = document.createElement('div');\n",
              "        docLink.innerHTML = docLinkHtml;\n",
              "        element.appendChild(docLink);\n",
              "      }\n",
              "    </script>\n",
              "  </div>\n",
              "\n",
              "\n",
              "<div id=\"df-09b5dea2-8181-4c79-b86f-234e905f9069\">\n",
              "  <button class=\"colab-df-quickchart\" onclick=\"quickchart('df-09b5dea2-8181-4c79-b86f-234e905f9069')\"\n",
              "            title=\"Suggest charts\"\n",
              "            style=\"display:none;\">\n",
              "\n",
              "<svg xmlns=\"http://www.w3.org/2000/svg\" height=\"24px\"viewBox=\"0 0 24 24\"\n",
              "     width=\"24px\">\n",
              "    <g>\n",
              "        <path d=\"M19 3H5c-1.1 0-2 .9-2 2v14c0 1.1.9 2 2 2h14c1.1 0 2-.9 2-2V5c0-1.1-.9-2-2-2zM9 17H7v-7h2v7zm4 0h-2V7h2v10zm4 0h-2v-4h2v4z\"/>\n",
              "    </g>\n",
              "</svg>\n",
              "  </button>\n",
              "\n",
              "<style>\n",
              "  .colab-df-quickchart {\n",
              "      --bg-color: #E8F0FE;\n",
              "      --fill-color: #1967D2;\n",
              "      --hover-bg-color: #E2EBFA;\n",
              "      --hover-fill-color: #174EA6;\n",
              "      --disabled-fill-color: #AAA;\n",
              "      --disabled-bg-color: #DDD;\n",
              "  }\n",
              "\n",
              "  [theme=dark] .colab-df-quickchart {\n",
              "      --bg-color: #3B4455;\n",
              "      --fill-color: #D2E3FC;\n",
              "      --hover-bg-color: #434B5C;\n",
              "      --hover-fill-color: #FFFFFF;\n",
              "      --disabled-bg-color: #3B4455;\n",
              "      --disabled-fill-color: #666;\n",
              "  }\n",
              "\n",
              "  .colab-df-quickchart {\n",
              "    background-color: var(--bg-color);\n",
              "    border: none;\n",
              "    border-radius: 50%;\n",
              "    cursor: pointer;\n",
              "    display: none;\n",
              "    fill: var(--fill-color);\n",
              "    height: 32px;\n",
              "    padding: 0;\n",
              "    width: 32px;\n",
              "  }\n",
              "\n",
              "  .colab-df-quickchart:hover {\n",
              "    background-color: var(--hover-bg-color);\n",
              "    box-shadow: 0 1px 2px rgba(60, 64, 67, 0.3), 0 1px 3px 1px rgba(60, 64, 67, 0.15);\n",
              "    fill: var(--button-hover-fill-color);\n",
              "  }\n",
              "\n",
              "  .colab-df-quickchart-complete:disabled,\n",
              "  .colab-df-quickchart-complete:disabled:hover {\n",
              "    background-color: var(--disabled-bg-color);\n",
              "    fill: var(--disabled-fill-color);\n",
              "    box-shadow: none;\n",
              "  }\n",
              "\n",
              "  .colab-df-spinner {\n",
              "    border: 2px solid var(--fill-color);\n",
              "    border-color: transparent;\n",
              "    border-bottom-color: var(--fill-color);\n",
              "    animation:\n",
              "      spin 1s steps(1) infinite;\n",
              "  }\n",
              "\n",
              "  @keyframes spin {\n",
              "    0% {\n",
              "      border-color: transparent;\n",
              "      border-bottom-color: var(--fill-color);\n",
              "      border-left-color: var(--fill-color);\n",
              "    }\n",
              "    20% {\n",
              "      border-color: transparent;\n",
              "      border-left-color: var(--fill-color);\n",
              "      border-top-color: var(--fill-color);\n",
              "    }\n",
              "    30% {\n",
              "      border-color: transparent;\n",
              "      border-left-color: var(--fill-color);\n",
              "      border-top-color: var(--fill-color);\n",
              "      border-right-color: var(--fill-color);\n",
              "    }\n",
              "    40% {\n",
              "      border-color: transparent;\n",
              "      border-right-color: var(--fill-color);\n",
              "      border-top-color: var(--fill-color);\n",
              "    }\n",
              "    60% {\n",
              "      border-color: transparent;\n",
              "      border-right-color: var(--fill-color);\n",
              "    }\n",
              "    80% {\n",
              "      border-color: transparent;\n",
              "      border-right-color: var(--fill-color);\n",
              "      border-bottom-color: var(--fill-color);\n",
              "    }\n",
              "    90% {\n",
              "      border-color: transparent;\n",
              "      border-bottom-color: var(--fill-color);\n",
              "    }\n",
              "  }\n",
              "</style>\n",
              "\n",
              "  <script>\n",
              "    async function quickchart(key) {\n",
              "      const quickchartButtonEl =\n",
              "        document.querySelector('#' + key + ' button');\n",
              "      quickchartButtonEl.disabled = true;  // To prevent multiple clicks.\n",
              "      quickchartButtonEl.classList.add('colab-df-spinner');\n",
              "      try {\n",
              "        const charts = await google.colab.kernel.invokeFunction(\n",
              "            'suggestCharts', [key], {});\n",
              "      } catch (error) {\n",
              "        console.error('Error during call to suggestCharts:', error);\n",
              "      }\n",
              "      quickchartButtonEl.classList.remove('colab-df-spinner');\n",
              "      quickchartButtonEl.classList.add('colab-df-quickchart-complete');\n",
              "    }\n",
              "    (() => {\n",
              "      let quickchartButtonEl =\n",
              "        document.querySelector('#df-09b5dea2-8181-4c79-b86f-234e905f9069 button');\n",
              "      quickchartButtonEl.style.display =\n",
              "        google.colab.kernel.accessAllowed ? 'block' : 'none';\n",
              "    })();\n",
              "  </script>\n",
              "</div>\n",
              "\n",
              "    </div>\n",
              "  </div>\n"
            ],
            "application/vnd.google.colaboratory.intrinsic+json": {
              "type": "dataframe",
              "variable_name": "df",
              "summary": "{\n  \"name\": \"df\",\n  \"rows\": 50000,\n  \"fields\": [\n    {\n      \"column\": \"review\",\n      \"properties\": {\n        \"dtype\": \"string\",\n        \"num_unique_values\": 49575,\n        \"samples\": [\n          \"oh boy films like really bother movie supposed close truth assume rommel knew hitler time wwii started movie rommel mentions hitler changed well imagine rommel known something hitler government policies rommel must share guilt german atrocities mind problem movie makes rommel life end tragic one made choices feel bad also buy theory competent generals allowed fight war allies would trouble winning competent people charge wwii may never started first place movie watching aspect film jumps place place time seems like history special big name actors playing historical roles leo g carroll couple good scenes james mason liked fact everyone spoke english without ridiculous accents essential\",\n          \"uzumaki visually astounding film however felt story line may sacrificed hardly character development left feeling personally detached film ironic puns aside film really draw many slight spiral effects stunning scene transitions first overall cinematography threw get used overall appearance start see beauty twisted film great movie looking looker much substance deeper meaning great horror film actually scary suspenseful somehow eerie\",\n          \"dear reader watch movie really movie though creators impertinence call warned content goes film simply sequence imagines flow continually trying transmit certain feeling concept could called therefore symbols images accompanied soundtrack purpose create atmosphere well however images director chosen transmit feelings american audience overwhelming number american icons though film intended express idea civilized warfare fails general chaos also far long tiresome strongly felt lot scenes war whichever conception conclude greatly disappointed documentary documentary movie movie something whose strong point extraordinary use technology image processing\"\n        ],\n        \"semantic_type\": \"\",\n        \"description\": \"\"\n      }\n    },\n    {\n      \"column\": \"sentiment\",\n      \"properties\": {\n        \"dtype\": \"number\",\n        \"std\": 0,\n        \"min\": 0,\n        \"max\": 1,\n        \"num_unique_values\": 2,\n        \"samples\": [\n          0,\n          1\n        ],\n        \"semantic_type\": \"\",\n        \"description\": \"\"\n      }\n    }\n  ]\n}"
            }
          },
          "metadata": {},
          "execution_count": 355
        }
      ]
    },
    {
      "cell_type": "markdown",
      "source": [
        "# Naïve Bayes Classification"
      ],
      "metadata": {
        "id": "L-DHk2Vk7lHP"
      }
    },
    {
      "cell_type": "markdown",
      "source": [
        "## Calculate prior Probabilities"
      ],
      "metadata": {
        "id": "ZPZ16OpuzsRP"
      }
    },
    {
      "cell_type": "markdown",
      "source": [
        "From the formula for Bayes Theorem, calculate prior (P(Y=y))."
      ],
      "metadata": {
        "id": "Fx8y9QxevkzR"
      }
    },
    {
      "cell_type": "code",
      "source": [
        "\n",
        "# Calculate prior P(Y=y)\n",
        "import math\n",
        "def calculate_prior(df,Y):\n",
        "  arr = []\n",
        "  classes = df[Y].unique()\n",
        "  for clas in classes:\n",
        "    clas_div_total = len(df[df[Y]==clas])/ len(df)\n",
        "    arr.append(math.log(clas_div_total))\n",
        "  return arr\n",
        "\n"
      ],
      "metadata": {
        "id": "pabCi_iDbMdO"
      },
      "execution_count": null,
      "outputs": []
    },
    {
      "cell_type": "markdown",
      "source": [
        "prior probability for each class in basically total number of rows that belong to that class divided by the total number of rows. Since this is a constant value, its easier to calculate it and save it."
      ],
      "metadata": {
        "id": "uzsJeHXezywT"
      }
    },
    {
      "cell_type": "code",
      "source": [
        "calculate_prior(df,\"sentiment\")"
      ],
      "metadata": {
        "colab": {
          "base_uri": "https://localhost:8080/"
        },
        "id": "jn6HK2xSbmwr",
        "outputId": "689801f9-cd52-4320-d483-43aa6b71a0d6"
      },
      "execution_count": null,
      "outputs": [
        {
          "output_type": "execute_result",
          "data": {
            "text/plain": [
              "[-0.6931471805599453, -0.6931471805599453]"
            ]
          },
          "metadata": {},
          "execution_count": 357
        }
      ]
    },
    {
      "cell_type": "markdown",
      "source": [
        "## Building Vocabulary and word counts"
      ],
      "metadata": {
        "id": "KmbsiD4_0FMA"
      }
    },
    {
      "cell_type": "markdown",
      "source": [
        "Create a vocabulary dictionary which is basically a set containing all the words from the dataset. It doesnt have repeating values and thus total document length is higher than the vocabulary length."
      ],
      "metadata": {
        "id": "gXPRn9AS0XLS"
      }
    },
    {
      "cell_type": "code",
      "source": [
        "# need to create a vocab dictionary\n",
        "total_vocab = df[\"review\"].apply(lambda x: x.split()).tolist()\n",
        "vocab = set(\" \".join(df[\"review\"]).split()) # Unique words across all reviews\n",
        "#"
      ],
      "metadata": {
        "id": "arIod1gAfnzi"
      },
      "execution_count": null,
      "outputs": []
    },
    {
      "cell_type": "code",
      "source": [
        "len(vocab)"
      ],
      "metadata": {
        "colab": {
          "base_uri": "https://localhost:8080/"
        },
        "id": "S3VJz3rpfnwa",
        "outputId": "6acedb06-08e1-4e58-fae1-d29da728a597"
      },
      "execution_count": null,
      "outputs": [
        {
          "output_type": "execute_result",
          "data": {
            "text/plain": [
              "103149"
            ]
          },
          "metadata": {},
          "execution_count": 359
        }
      ]
    },
    {
      "cell_type": "markdown",
      "source": [
        "Calculate total number of words in each class."
      ],
      "metadata": {
        "id": "lG8ILmtX0oIc"
      }
    },
    {
      "cell_type": "code",
      "source": [
        "#create a bag of words for demominator:\n",
        "df_positive = df[df[\"sentiment\"]== 1]\n",
        "df_negative = df[df[\"sentiment\"]== 0]"
      ],
      "metadata": {
        "id": "BTnNZV3UMN3J"
      },
      "execution_count": null,
      "outputs": []
    },
    {
      "cell_type": "code",
      "source": [
        "no_of_words_positive = \" \".join(df_positive[\"review\"]).split()\n",
        "no_of_words_negative =  \" \".join(df_negative[\"review\"]).split()"
      ],
      "metadata": {
        "id": "0YRik0rkMc8f"
      },
      "execution_count": null,
      "outputs": []
    },
    {
      "cell_type": "code",
      "source": [
        "len(no_of_words_positive)"
      ],
      "metadata": {
        "colab": {
          "base_uri": "https://localhost:8080/"
        },
        "id": "cIonHlNGMpr6",
        "outputId": "92b8917c-24e2-4ffe-c811-d84bf04be0fb"
      },
      "execution_count": null,
      "outputs": [
        {
          "output_type": "execute_result",
          "data": {
            "text/plain": [
              "3033174"
            ]
          },
          "metadata": {},
          "execution_count": 362
        }
      ]
    },
    {
      "cell_type": "code",
      "source": [
        "len(no_of_words_negative)"
      ],
      "metadata": {
        "colab": {
          "base_uri": "https://localhost:8080/"
        },
        "id": "xsvOSz1sMsD1",
        "outputId": "57e7a57b-f576-406a-fb40-a0f36bc25990"
      },
      "execution_count": null,
      "outputs": [
        {
          "output_type": "execute_result",
          "data": {
            "text/plain": [
              "2945946"
            ]
          },
          "metadata": {},
          "execution_count": 363
        }
      ]
    },
    {
      "cell_type": "markdown",
      "source": [
        "Calculate the denominator for each class for the formula:\n",
        "\n",
        "$P(w | Y) = \\frac{\\text{Word count in class Y} + 1}{\\text{Total words in class Y} + |V|}$\n"
      ],
      "metadata": {
        "id": "ue-Pts4-01jz"
      }
    },
    {
      "cell_type": "code",
      "source": [
        "def denominator_for_class(label):\n",
        "  if label == 1:\n",
        "    denominator = len(no_of_words_positive) + len(vocab)\n",
        "\n",
        "  if label ==0:\n",
        "    denominator = len(no_of_words_negative) + len(vocab)\n",
        "\n",
        "  return denominator\n",
        "\n"
      ],
      "metadata": {
        "id": "2AUFi5-exbCs"
      },
      "execution_count": null,
      "outputs": []
    },
    {
      "cell_type": "code",
      "source": [
        "denominator_for_positive_class = len(no_of_words_positive) + len(vocab)\n",
        "denominator_for_negative_class = len(no_of_words_negative) + len(vocab)"
      ],
      "metadata": {
        "id": "u5iTKRrvMzPR"
      },
      "execution_count": null,
      "outputs": []
    },
    {
      "cell_type": "code",
      "source": [
        "denominator_for_positive_class"
      ],
      "metadata": {
        "colab": {
          "base_uri": "https://localhost:8080/"
        },
        "id": "PLzlBAiowDeD",
        "outputId": "6327f3ea-a665-4174-bce0-0b54e037dc25"
      },
      "execution_count": null,
      "outputs": [
        {
          "output_type": "execute_result",
          "data": {
            "text/plain": [
              "3136323"
            ]
          },
          "metadata": {},
          "execution_count": 366
        }
      ]
    },
    {
      "cell_type": "code",
      "source": [
        "#inefficient code, but does the job.\n",
        "# The given code processes a document by counting how many reviews contain each word in the total_vocab.\n",
        "\n",
        "array_of_words_in_doc = doc.split()\n",
        "total_count= []\n",
        "for word in array_of_words_in_doc:\n",
        "      count = 0\n",
        "      for i in total_vocab:\n",
        "        for j in i:\n",
        "          if word == j:\n",
        "            count+=1\n",
        "            break\n",
        "      total_count.append(count+1)\n"
      ],
      "metadata": {
        "id": "mvUcWwiBN5HM"
      },
      "execution_count": null,
      "outputs": []
    },
    {
      "cell_type": "markdown",
      "source": [
        "Efficient code for calculating how many reviews contain each word in total_vocab."
      ],
      "metadata": {
        "id": "EgODewBG2Sij"
      }
    },
    {
      "cell_type": "code",
      "source": [
        "from collections import Counter\n",
        "\n",
        "# Convert each review (list of words) into a set for fast lookups\n",
        "review_sets = [set(review) for review in total_vocab]\n",
        "\n",
        "# Count how many reviews contain each word at least once\n",
        "word_counts = Counter(word for review in review_sets for word in review)\n",
        "\n",
        "# Compute total count for words in `doc`\n"
      ],
      "metadata": {
        "id": "xXkOAPxYsdAi"
      },
      "execution_count": null,
      "outputs": []
    },
    {
      "cell_type": "markdown",
      "source": [
        "Efficient code for calculating how many reviews contain each word in vocabulary of positive words."
      ],
      "metadata": {
        "id": "cj300rFt2ed1"
      }
    },
    {
      "cell_type": "code",
      "source": [
        "from collections import Counter\n",
        "vocab_positive =  df_positive[\"review\"].apply(lambda x: x.split()).tolist() # Unique words across all positive reviews\n",
        "\n",
        "# Convert each review (list of words) into a set for fast lookups\n",
        "review_sets_positive = [set(review) for review in vocab_positive]\n",
        "\n",
        "# Count how many reviews contain each word at least once\n",
        "word_counts_positive = Counter(word for review in review_sets_positive for word in review)\n",
        "\n",
        "# Compute total count for words in `doc`"
      ],
      "metadata": {
        "id": "QvWhMcMQ4TG3"
      },
      "execution_count": null,
      "outputs": []
    },
    {
      "cell_type": "markdown",
      "source": [
        "Efficient code for calculating how many reviews contain each word in vocabulary of negative words."
      ],
      "metadata": {
        "id": "IUaywA_b2fKK"
      }
    },
    {
      "cell_type": "code",
      "source": [
        "from collections import Counter\n",
        "vocab_negative =  df_negative[\"review\"].apply(lambda x: x.split()).tolist() # Unique words across all reviews\n",
        "\n",
        "# Convert each review (list of words) into a set for fast lookups\n",
        "review_sets_negative = [set(review) for review in vocab_negative]\n",
        "\n",
        "# Count how many reviews contain each word at least once\n",
        "word_counts_negative = Counter(word for review in review_sets_negative for word in review)\n",
        "\n",
        "# Compute total count for words in `doc`"
      ],
      "metadata": {
        "id": "FHD79s6S64Xk"
      },
      "execution_count": null,
      "outputs": []
    },
    {
      "cell_type": "code",
      "source": [
        "def call_word_count(label):\n",
        "  if label ==1:\n",
        "    return word_counts_positive\n",
        "  if label ==0:\n",
        "    return word_counts_negative"
      ],
      "metadata": {
        "id": "U7xa5ufi7DK8"
      },
      "execution_count": null,
      "outputs": []
    },
    {
      "cell_type": "markdown",
      "source": [
        "### **Underflow in Naïve Bayes?**  \n",
        "In Naïve Bayes, we calculate the probability of a class \\( Y \\) given a document \\( X \\) using:  \n",
        "\n",
        "$P(Y | X) \\propto P(Y) \\prod_{i=1}^{n} P(w_i | Y)$\n",
        "\n",
        "<br>\n",
        "\n",
        "- $P(w_i \\mid Y)$ (the likelihood) is a small probability because words rarely occur in every document.  \n",
        "- Multiplying many small probabilities together makes the final probability **extremely small**, leading to **numerical underflow** (rounding to zero).  \n",
        "\n"
      ],
      "metadata": {
        "id": "R2FoSqaE3POZ"
      }
    },
    {
      "cell_type": "markdown",
      "source": [
        "### **How to Fix Underflow? Use Log Probabilities**  \n",
        "Instead of multiplying probabilities, we use **logarithms** to convert **multiplication into addition**:  \n",
        "\n",
        "$\\log P(Y | X) \\propto \\log P(Y) + \\sum_{i=1}^{n} \\log P(w_i | Y)$\n"
      ],
      "metadata": {
        "id": "HCNkTgGD3ocH"
      }
    },
    {
      "cell_type": "markdown",
      "source": [
        "## naive_bayes function"
      ],
      "metadata": {
        "id": "IyRP-06x7usS"
      }
    },
    {
      "cell_type": "code",
      "source": [
        "def naive_bayes(df,X,Y):\n",
        "  prior = calculate_prior(df,\"sentiment\")\n",
        "  unique_labels = sorted(df[Y].unique())\n",
        "  extreme_final =[]\n",
        "  for x in X: # loop over each row of test data\n",
        "    doc = x[0]\n",
        "\n",
        "    final = []\n",
        "\n",
        "    for j in unique_labels:\n",
        "      if j ==1:\n",
        "        total_count = [word_counts_positive.get(word, 0) + 1 for word in doc.split()]\n",
        "      if j ==0:\n",
        "        total_count = [word_counts_negative.get(word, 0) + 1 for word in doc.split()]\n",
        "\n",
        "      total_count = np.array(total_count, dtype=np.float128)/ (denominator_for_class(j) + len(vocab))\n",
        "\n",
        "      result = np.sum(total_count)\n",
        "      final.append(float(result))\n",
        "      #print(final)\n",
        "\n",
        "    #print(final)\n",
        "    new=[prior[0]*final[0],prior[1]*final[1]]\n",
        "\n",
        "    extreme_final.append(np.argmax(new))\n",
        "\n",
        "  return extreme_final\n",
        "\n"
      ],
      "metadata": {
        "id": "xvFWzsoI0mFa"
      },
      "execution_count": null,
      "outputs": []
    },
    {
      "cell_type": "markdown",
      "source": [
        "# Run model and evaluate."
      ],
      "metadata": {
        "id": "gNbv6z7g6ieP"
      }
    },
    {
      "cell_type": "code",
      "source": [
        "from sklearn.model_selection import train_test_split\n",
        "from sklearn.metrics import confusion_matrix, f1_score\n",
        "\n",
        "\n",
        "train, test = train_test_split(df, test_size=.2, random_state=49)   # Train, test dataset split\n",
        "\n",
        "X_test = test.iloc[:,: -1].values # Remove the Y column\n",
        "Y_test = test.iloc[:,-1].values   # Keep the Y column\n",
        "\n",
        "Y_pred = naive_bayes(train, X= X_test,Y= \"sentiment\")   # Apply Naive - Bayes algorithm\n",
        "\n",
        "print(\"Confusion Matrix:\")\n",
        "print(confusion_matrix( Y_test, Y_pred))\n",
        "print('\\n')\n",
        "print(\"f1 Score:\")\n",
        "print(f1_score(Y_test, Y_pred))"
      ],
      "metadata": {
        "colab": {
          "base_uri": "https://localhost:8080/"
        },
        "id": "k3y8ienXC_nm",
        "outputId": "4a0904dd-d369-4aaa-8a50-45b60937c816"
      },
      "execution_count": null,
      "outputs": [
        {
          "output_type": "stream",
          "name": "stdout",
          "text": [
            "Confusion Matrix:\n",
            "[[ 119 4808]\n",
            " [1577 3496]]\n",
            "\n",
            "\n",
            "f1 Score:\n",
            "0.5226881961575839\n"
          ]
        }
      ]
    },
    {
      "cell_type": "markdown",
      "source": [
        "## **Comments**  \n",
        "\n",
        "This notebook was used to learn **Naïve Bayes from scratch** and did not focus on improving model performance.  \n",
        "\n",
        "### **Ways to Improve Model Performance:**  \n",
        "- **Better Text Preprocessing:** Removing stopwords, stemming, and lemmatization.  \n",
        "- **TF-IDF Features:** Using **Term Frequency-Inverse Document Frequency (TF-IDF)** instead of raw word counts.  \n",
        "- **Handling Imbalanced Data:** Using **class weighting** or **oversampling/undersampling** methods.  \n",
        "- **Feature Engineering:** Extracting **n-grams** (bigrams, trigrams) to capture word relationships.  \n",
        "- **Hyperparameter Tuning:** Adjusting **Laplace smoothing** and feature selection methods.  \n",
        "- **Using Word Embeddings:** Incorporating **word vectors (e.g., Word2Vec, GloVe)** for better representation.  \n"
      ],
      "metadata": {
        "id": "lwiW_N3o9nHZ"
      }
    }
  ]
}